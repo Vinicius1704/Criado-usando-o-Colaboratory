{
  "nbformat": 4,
  "nbformat_minor": 0,
  "metadata": {
    "colab": {
      "provenance": [],
      "toc_visible": true,
      "authorship_tag": "ABX9TyPXZKgHFD7YmxMYLyhRJHVm",
      "include_colab_link": true
    },
    "kernelspec": {
      "name": "python3",
      "display_name": "Python 3"
    },
    "language_info": {
      "name": "python"
    }
  },
  "cells": [
    {
      "cell_type": "markdown",
      "metadata": {
        "id": "view-in-github",
        "colab_type": "text"
      },
      "source": [
        "<a href=\"https://colab.research.google.com/github/Vinicius1704/Criado-usando-o-Colaboratory/blob/main/2024_1_Laborat%C3%B3rio_de_Intelig%C3%AAncia_Artificial_e_Vis%C3%A3o_Computacional_PDI_%5BCI%C3%8ANCIA_DA_COMPUTA%C3%87%C3%83O%5D.ipynb\" target=\"_parent\"><img src=\"https://colab.research.google.com/assets/colab-badge.svg\" alt=\"Open In Colab\"/></a>"
      ]
    },
    {
      "cell_type": "markdown",
      "source": [
        "# Código Hello Word"
      ],
      "metadata": {
        "id": "fab5l3FUjkTM"
      }
    },
    {
      "cell_type": "code",
      "execution_count": 1,
      "metadata": {
        "colab": {
          "base_uri": "https://localhost:8080/"
        },
        "id": "ezai3YdujjNZ",
        "outputId": "c1070912-0d83-439f-fc2d-e50527886c05"
      },
      "outputs": [
        {
          "output_type": "stream",
          "name": "stdout",
          "text": [
            "Hello World\n"
          ]
        }
      ],
      "source": [
        "print(\"Hello World\")"
      ]
    }
  ]
}